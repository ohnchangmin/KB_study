{
  "nbformat": 4,
  "nbformat_minor": 0,
  "metadata": {
    "colab": {
      "name": "celsius_to_fathernheit",
      "provenance": [],
      "collapsed_sections": []
    },
    "kernelspec": {
      "name": "python3",
      "display_name": "Python 3"
    },
    "language_info": {
      "name": "python"
    }
  },
  "cells": [
    {
      "cell_type": "code",
      "metadata": {
        "id": "dKwEoocKg26W"
      },
      "source": [
        "import numpy as np\n",
        "import pandas as pd\n",
        "import matplotlib.pyplot as plt"
      ],
      "execution_count": 2,
      "outputs": []
    },
    {
      "cell_type": "code",
      "metadata": {
        "id": "iNTNKiNHgOyC"
      },
      "source": [
        "def celsius_to_fathernheit(x):\n",
        "  return x * 1.8 + 32"
      ],
      "execution_count": 3,
      "outputs": []
    },
    {
      "cell_type": "code",
      "metadata": {
        "colab": {
          "base_uri": "https://localhost:8080/"
        },
        "id": "gkl-IxHDgwln",
        "outputId": "336f1c62-7e1a-42be-acce-7e073d7055a6"
      },
      "source": [
        "data_C = np.array(range(0,100), )\n",
        "data_F = celsius_to_fathernheit(data_C)\n",
        "print(data_C, '\\n')\n",
        "print(data_F)"
      ],
      "execution_count": 4,
      "outputs": [
        {
          "output_type": "stream",
          "text": [
            "[ 0  1  2  3  4  5  6  7  8  9 10 11 12 13 14 15 16 17 18 19 20 21 22 23\n",
            " 24 25 26 27 28 29 30 31 32 33 34 35 36 37 38 39 40 41 42 43 44 45 46 47\n",
            " 48 49 50 51 52 53 54 55 56 57 58 59 60 61 62 63 64 65 66 67 68 69 70 71\n",
            " 72 73 74 75 76 77 78 79 80 81 82 83 84 85 86 87 88 89 90 91 92 93 94 95\n",
            " 96 97 98 99] \n",
            "\n",
            "[ 32.   33.8  35.6  37.4  39.2  41.   42.8  44.6  46.4  48.2  50.   51.8\n",
            "  53.6  55.4  57.2  59.   60.8  62.6  64.4  66.2  68.   69.8  71.6  73.4\n",
            "  75.2  77.   78.8  80.6  82.4  84.2  86.   87.8  89.6  91.4  93.2  95.\n",
            "  96.8  98.6 100.4 102.2 104.  105.8 107.6 109.4 111.2 113.  114.8 116.6\n",
            " 118.4 120.2 122.  123.8 125.6 127.4 129.2 131.  132.8 134.6 136.4 138.2\n",
            " 140.  141.8 143.6 145.4 147.2 149.  150.8 152.6 154.4 156.2 158.  159.8\n",
            " 161.6 163.4 165.2 167.  168.8 170.6 172.4 174.2 176.  177.8 179.6 181.4\n",
            " 183.2 185.  186.8 188.6 190.4 192.2 194.  195.8 197.6 199.4 201.2 203.\n",
            " 204.8 206.6 208.4 210.2]\n"
          ],
          "name": "stdout"
        }
      ]
    },
    {
      "cell_type": "code",
      "metadata": {
        "colab": {
          "base_uri": "https://localhost:8080/"
        },
        "id": "J7cjH9VOmc7T",
        "outputId": "b1dcb525-7830-4655-d316-2bbbb45bb07f"
      },
      "source": [
        "inp = int(input(\"섭씨온도를 입력하세요: \\n\"))\n",
        "print(\"화씨 온도로\", celsius_to_fathernheit(inp), \"입니다.\")"
      ],
      "execution_count": 5,
      "outputs": [
        {
          "output_type": "stream",
          "text": [
            "섭씨온도를 입력하세요: \n",
            "64\n",
            "화씨 온도로 147.2 입니다.\n"
          ],
          "name": "stdout"
        }
      ]
    },
    {
      "cell_type": "code",
      "metadata": {
        "id": "vVYC3Wlknlga"
      },
      "source": [
        "from tensorflow.keras.models import Sequential\n",
        "from tensorflow.keras.layers import Dense"
      ],
      "execution_count": 6,
      "outputs": []
    },
    {
      "cell_type": "code",
      "metadata": {
        "colab": {
          "base_uri": "https://localhost:8080/"
        },
        "id": "Qnf3v-wFn0lS",
        "outputId": "8ea12a9d-bbab-46ad-9693-ffdf1b15d4b1"
      },
      "source": [
        "model = Sequential()\n",
        "model.add(Dense(1, input_dim=1))\n",
        "\n",
        "model.compile(loss='mse', optimizer='rmsprop', metrics=['mae'])\n",
        "print(model.summary())"
      ],
      "execution_count": 7,
      "outputs": [
        {
          "output_type": "stream",
          "text": [
            "Model: \"sequential\"\n",
            "_________________________________________________________________\n",
            "Layer (type)                 Output Shape              Param #   \n",
            "=================================================================\n",
            "dense (Dense)                (None, 1)                 2         \n",
            "=================================================================\n",
            "Total params: 2\n",
            "Trainable params: 2\n",
            "Non-trainable params: 0\n",
            "_________________________________________________________________\n",
            "None\n"
          ],
          "name": "stdout"
        }
      ]
    },
    {
      "cell_type": "code",
      "metadata": {
        "colab": {
          "base_uri": "https://localhost:8080/"
        },
        "id": "QqxZFqAKomSK",
        "outputId": "5ea9aee4-d6bd-4c8c-8fad-f5af010bbf2c"
      },
      "source": [
        "print(model.predict([1]))"
      ],
      "execution_count": 8,
      "outputs": [
        {
          "output_type": "stream",
          "text": [
            "[[0.5006949]]\n"
          ],
          "name": "stdout"
        }
      ]
    },
    {
      "cell_type": "code",
      "metadata": {
        "id": "w3siQH-ro3OK"
      },
      "source": [
        "model.save(\"/content/before_learning.h5\")"
      ],
      "execution_count": 9,
      "outputs": []
    },
    {
      "cell_type": "code",
      "metadata": {
        "id": "8Wlc9jt-pAay"
      },
      "source": [
        "scaled_data_C = data_C / 100\n",
        "scaled_data_F = data_F / 100"
      ],
      "execution_count": 10,
      "outputs": []
    },
    {
      "cell_type": "code",
      "metadata": {
        "colab": {
          "base_uri": "https://localhost:8080/"
        },
        "id": "pyraXLBjpL8W",
        "outputId": "a3110694-026f-4a80-9203-6666d9f0be0e"
      },
      "source": [
        "print(scaled_data_C)\n",
        "print(scaled_data_F)"
      ],
      "execution_count": 11,
      "outputs": [
        {
          "output_type": "stream",
          "text": [
            "[0.   0.01 0.02 0.03 0.04 0.05 0.06 0.07 0.08 0.09 0.1  0.11 0.12 0.13\n",
            " 0.14 0.15 0.16 0.17 0.18 0.19 0.2  0.21 0.22 0.23 0.24 0.25 0.26 0.27\n",
            " 0.28 0.29 0.3  0.31 0.32 0.33 0.34 0.35 0.36 0.37 0.38 0.39 0.4  0.41\n",
            " 0.42 0.43 0.44 0.45 0.46 0.47 0.48 0.49 0.5  0.51 0.52 0.53 0.54 0.55\n",
            " 0.56 0.57 0.58 0.59 0.6  0.61 0.62 0.63 0.64 0.65 0.66 0.67 0.68 0.69\n",
            " 0.7  0.71 0.72 0.73 0.74 0.75 0.76 0.77 0.78 0.79 0.8  0.81 0.82 0.83\n",
            " 0.84 0.85 0.86 0.87 0.88 0.89 0.9  0.91 0.92 0.93 0.94 0.95 0.96 0.97\n",
            " 0.98 0.99]\n",
            "[0.32  0.338 0.356 0.374 0.392 0.41  0.428 0.446 0.464 0.482 0.5   0.518\n",
            " 0.536 0.554 0.572 0.59  0.608 0.626 0.644 0.662 0.68  0.698 0.716 0.734\n",
            " 0.752 0.77  0.788 0.806 0.824 0.842 0.86  0.878 0.896 0.914 0.932 0.95\n",
            " 0.968 0.986 1.004 1.022 1.04  1.058 1.076 1.094 1.112 1.13  1.148 1.166\n",
            " 1.184 1.202 1.22  1.238 1.256 1.274 1.292 1.31  1.328 1.346 1.364 1.382\n",
            " 1.4   1.418 1.436 1.454 1.472 1.49  1.508 1.526 1.544 1.562 1.58  1.598\n",
            " 1.616 1.634 1.652 1.67  1.688 1.706 1.724 1.742 1.76  1.778 1.796 1.814\n",
            " 1.832 1.85  1.868 1.886 1.904 1.922 1.94  1.958 1.976 1.994 2.012 2.03\n",
            " 2.048 2.066 2.084 2.102]\n"
          ],
          "name": "stdout"
        }
      ]
    },
    {
      "cell_type": "code",
      "metadata": {
        "id": "9lttObforGNp",
        "colab": {
          "base_uri": "https://localhost:8080/"
        },
        "outputId": "55fade9d-9ad7-4cb0-ea3f-dc928c775a0c"
      },
      "source": [
        "fit_hist = model.fit(scaled_data_C, scaled_data_F, epochs=100, verbose=1)"
      ],
      "execution_count": 19,
      "outputs": [
        {
          "output_type": "stream",
          "text": [
            "Epoch 1/100\n",
            "4/4 [==============================] - 0s 2ms/step - loss: 0.0259 - mae: 0.1392\n",
            "Epoch 2/100\n",
            "4/4 [==============================] - 0s 2ms/step - loss: 0.0256 - mae: 0.1384\n",
            "Epoch 3/100\n",
            "4/4 [==============================] - 0s 3ms/step - loss: 0.0253 - mae: 0.1376\n",
            "Epoch 4/100\n",
            "4/4 [==============================] - 0s 3ms/step - loss: 0.0250 - mae: 0.1367\n",
            "Epoch 5/100\n",
            "4/4 [==============================] - 0s 3ms/step - loss: 0.0246 - mae: 0.1356\n",
            "Epoch 6/100\n",
            "4/4 [==============================] - 0s 3ms/step - loss: 0.0243 - mae: 0.1348\n",
            "Epoch 7/100\n",
            "4/4 [==============================] - 0s 3ms/step - loss: 0.0240 - mae: 0.1339\n",
            "Epoch 8/100\n",
            "4/4 [==============================] - 0s 2ms/step - loss: 0.0237 - mae: 0.1331\n",
            "Epoch 9/100\n",
            "4/4 [==============================] - 0s 3ms/step - loss: 0.0233 - mae: 0.1321\n",
            "Epoch 10/100\n",
            "4/4 [==============================] - 0s 3ms/step - loss: 0.0230 - mae: 0.1312\n",
            "Epoch 11/100\n",
            "4/4 [==============================] - 0s 3ms/step - loss: 0.0227 - mae: 0.1302\n",
            "Epoch 12/100\n",
            "4/4 [==============================] - 0s 3ms/step - loss: 0.0224 - mae: 0.1293\n",
            "Epoch 13/100\n",
            "4/4 [==============================] - 0s 4ms/step - loss: 0.0221 - mae: 0.1286\n",
            "Epoch 14/100\n",
            "4/4 [==============================] - 0s 3ms/step - loss: 0.0219 - mae: 0.1279\n",
            "Epoch 15/100\n",
            "4/4 [==============================] - 0s 3ms/step - loss: 0.0216 - mae: 0.1270\n",
            "Epoch 16/100\n",
            "4/4 [==============================] - 0s 3ms/step - loss: 0.0213 - mae: 0.1262\n",
            "Epoch 17/100\n",
            "4/4 [==============================] - 0s 3ms/step - loss: 0.0210 - mae: 0.1251\n",
            "Epoch 18/100\n",
            "4/4 [==============================] - 0s 4ms/step - loss: 0.0207 - mae: 0.1243\n",
            "Epoch 19/100\n",
            "4/4 [==============================] - 0s 4ms/step - loss: 0.0204 - mae: 0.1233\n",
            "Epoch 20/100\n",
            "4/4 [==============================] - 0s 4ms/step - loss: 0.0202 - mae: 0.1227\n",
            "Epoch 21/100\n",
            "4/4 [==============================] - 0s 2ms/step - loss: 0.0199 - mae: 0.1219\n",
            "Epoch 22/100\n",
            "4/4 [==============================] - 0s 5ms/step - loss: 0.0197 - mae: 0.1211\n",
            "Epoch 23/100\n",
            "4/4 [==============================] - 0s 4ms/step - loss: 0.0194 - mae: 0.1203\n",
            "Epoch 24/100\n",
            "4/4 [==============================] - 0s 4ms/step - loss: 0.0192 - mae: 0.1196\n",
            "Epoch 25/100\n",
            "4/4 [==============================] - 0s 3ms/step - loss: 0.0190 - mae: 0.1189\n",
            "Epoch 26/100\n",
            "4/4 [==============================] - 0s 6ms/step - loss: 0.0187 - mae: 0.1181\n",
            "Epoch 27/100\n",
            "4/4 [==============================] - 0s 3ms/step - loss: 0.0184 - mae: 0.1171\n",
            "Epoch 28/100\n",
            "4/4 [==============================] - 0s 3ms/step - loss: 0.0181 - mae: 0.1162\n",
            "Epoch 29/100\n",
            "4/4 [==============================] - 0s 3ms/step - loss: 0.0178 - mae: 0.1154\n",
            "Epoch 30/100\n",
            "4/4 [==============================] - 0s 3ms/step - loss: 0.0176 - mae: 0.1146\n",
            "Epoch 31/100\n",
            "4/4 [==============================] - 0s 3ms/step - loss: 0.0173 - mae: 0.1137\n",
            "Epoch 32/100\n",
            "4/4 [==============================] - 0s 2ms/step - loss: 0.0171 - mae: 0.1128\n",
            "Epoch 33/100\n",
            "4/4 [==============================] - 0s 2ms/step - loss: 0.0168 - mae: 0.1120\n",
            "Epoch 34/100\n",
            "4/4 [==============================] - 0s 3ms/step - loss: 0.0165 - mae: 0.1111\n",
            "Epoch 35/100\n",
            "4/4 [==============================] - 0s 3ms/step - loss: 0.0163 - mae: 0.1102\n",
            "Epoch 36/100\n",
            "4/4 [==============================] - 0s 3ms/step - loss: 0.0161 - mae: 0.1094\n",
            "Epoch 37/100\n",
            "4/4 [==============================] - 0s 3ms/step - loss: 0.0158 - mae: 0.1088\n",
            "Epoch 38/100\n",
            "4/4 [==============================] - 0s 2ms/step - loss: 0.0156 - mae: 0.1080\n",
            "Epoch 39/100\n",
            "4/4 [==============================] - 0s 2ms/step - loss: 0.0154 - mae: 0.1072\n",
            "Epoch 40/100\n",
            "4/4 [==============================] - 0s 3ms/step - loss: 0.0152 - mae: 0.1063\n",
            "Epoch 41/100\n",
            "4/4 [==============================] - 0s 2ms/step - loss: 0.0150 - mae: 0.1055\n",
            "Epoch 42/100\n",
            "4/4 [==============================] - 0s 5ms/step - loss: 0.0148 - mae: 0.1048\n",
            "Epoch 43/100\n",
            "4/4 [==============================] - 0s 5ms/step - loss: 0.0145 - mae: 0.1040\n",
            "Epoch 44/100\n",
            "4/4 [==============================] - 0s 4ms/step - loss: 0.0143 - mae: 0.1032\n",
            "Epoch 45/100\n",
            "4/4 [==============================] - 0s 3ms/step - loss: 0.0141 - mae: 0.1025\n",
            "Epoch 46/100\n",
            "4/4 [==============================] - 0s 3ms/step - loss: 0.0139 - mae: 0.1016\n",
            "Epoch 47/100\n",
            "4/4 [==============================] - 0s 3ms/step - loss: 0.0137 - mae: 0.1009\n",
            "Epoch 48/100\n",
            "4/4 [==============================] - 0s 3ms/step - loss: 0.0134 - mae: 0.1000\n",
            "Epoch 49/100\n",
            "4/4 [==============================] - 0s 3ms/step - loss: 0.0132 - mae: 0.0992\n",
            "Epoch 50/100\n",
            "4/4 [==============================] - 0s 4ms/step - loss: 0.0130 - mae: 0.0985\n",
            "Epoch 51/100\n",
            "4/4 [==============================] - 0s 4ms/step - loss: 0.0128 - mae: 0.0976\n",
            "Epoch 52/100\n",
            "4/4 [==============================] - 0s 2ms/step - loss: 0.0126 - mae: 0.0969\n",
            "Epoch 53/100\n",
            "4/4 [==============================] - 0s 5ms/step - loss: 0.0124 - mae: 0.0959\n",
            "Epoch 54/100\n",
            "4/4 [==============================] - 0s 4ms/step - loss: 0.0122 - mae: 0.0952\n",
            "Epoch 55/100\n",
            "4/4 [==============================] - 0s 4ms/step - loss: 0.0119 - mae: 0.0943\n",
            "Epoch 56/100\n",
            "4/4 [==============================] - 0s 4ms/step - loss: 0.0118 - mae: 0.0936\n",
            "Epoch 57/100\n",
            "4/4 [==============================] - 0s 3ms/step - loss: 0.0116 - mae: 0.0928\n",
            "Epoch 58/100\n",
            "4/4 [==============================] - 0s 2ms/step - loss: 0.0114 - mae: 0.0921\n",
            "Epoch 59/100\n",
            "4/4 [==============================] - 0s 3ms/step - loss: 0.0112 - mae: 0.0912\n",
            "Epoch 60/100\n",
            "4/4 [==============================] - 0s 3ms/step - loss: 0.0111 - mae: 0.0906\n",
            "Epoch 61/100\n",
            "4/4 [==============================] - 0s 4ms/step - loss: 0.0109 - mae: 0.0899\n",
            "Epoch 62/100\n",
            "4/4 [==============================] - 0s 3ms/step - loss: 0.0107 - mae: 0.0892\n",
            "Epoch 63/100\n",
            "4/4 [==============================] - 0s 3ms/step - loss: 0.0106 - mae: 0.0885\n",
            "Epoch 64/100\n",
            "4/4 [==============================] - 0s 3ms/step - loss: 0.0104 - mae: 0.0879\n",
            "Epoch 65/100\n",
            "4/4 [==============================] - 0s 3ms/step - loss: 0.0103 - mae: 0.0870\n",
            "Epoch 66/100\n",
            "4/4 [==============================] - 0s 3ms/step - loss: 0.0101 - mae: 0.0864\n",
            "Epoch 67/100\n",
            "4/4 [==============================] - 0s 3ms/step - loss: 0.0099 - mae: 0.0856\n",
            "Epoch 68/100\n",
            "4/4 [==============================] - 0s 4ms/step - loss: 0.0097 - mae: 0.0847\n",
            "Epoch 69/100\n",
            "4/4 [==============================] - 0s 3ms/step - loss: 0.0095 - mae: 0.0839\n",
            "Epoch 70/100\n",
            "4/4 [==============================] - 0s 3ms/step - loss: 0.0093 - mae: 0.0830\n",
            "Epoch 71/100\n",
            "4/4 [==============================] - 0s 3ms/step - loss: 0.0091 - mae: 0.0822\n",
            "Epoch 72/100\n",
            "4/4 [==============================] - 0s 3ms/step - loss: 0.0089 - mae: 0.0812\n",
            "Epoch 73/100\n",
            "4/4 [==============================] - 0s 4ms/step - loss: 0.0087 - mae: 0.0803\n",
            "Epoch 74/100\n",
            "4/4 [==============================] - 0s 5ms/step - loss: 0.0085 - mae: 0.0796\n",
            "Epoch 75/100\n",
            "4/4 [==============================] - 0s 4ms/step - loss: 0.0084 - mae: 0.0790\n",
            "Epoch 76/100\n",
            "4/4 [==============================] - 0s 4ms/step - loss: 0.0082 - mae: 0.0782\n",
            "Epoch 77/100\n",
            "4/4 [==============================] - 0s 5ms/step - loss: 0.0080 - mae: 0.0774\n",
            "Epoch 78/100\n",
            "4/4 [==============================] - 0s 4ms/step - loss: 0.0078 - mae: 0.0764\n",
            "Epoch 79/100\n",
            "4/4 [==============================] - 0s 3ms/step - loss: 0.0077 - mae: 0.0757\n",
            "Epoch 80/100\n",
            "4/4 [==============================] - 0s 3ms/step - loss: 0.0075 - mae: 0.0749\n",
            "Epoch 81/100\n",
            "4/4 [==============================] - 0s 4ms/step - loss: 0.0073 - mae: 0.0740\n",
            "Epoch 82/100\n",
            "4/4 [==============================] - 0s 4ms/step - loss: 0.0072 - mae: 0.0735\n",
            "Epoch 83/100\n",
            "4/4 [==============================] - 0s 4ms/step - loss: 0.0070 - mae: 0.0725\n",
            "Epoch 84/100\n",
            "4/4 [==============================] - 0s 3ms/step - loss: 0.0069 - mae: 0.0718\n",
            "Epoch 85/100\n",
            "4/4 [==============================] - 0s 4ms/step - loss: 0.0068 - mae: 0.0711\n",
            "Epoch 86/100\n",
            "4/4 [==============================] - 0s 3ms/step - loss: 0.0066 - mae: 0.0702\n",
            "Epoch 87/100\n",
            "4/4 [==============================] - 0s 4ms/step - loss: 0.0064 - mae: 0.0693\n",
            "Epoch 88/100\n",
            "4/4 [==============================] - 0s 4ms/step - loss: 0.0063 - mae: 0.0685\n",
            "Epoch 89/100\n",
            "4/4 [==============================] - 0s 4ms/step - loss: 0.0061 - mae: 0.0676\n",
            "Epoch 90/100\n",
            "4/4 [==============================] - 0s 3ms/step - loss: 0.0060 - mae: 0.0668\n",
            "Epoch 91/100\n",
            "4/4 [==============================] - 0s 4ms/step - loss: 0.0058 - mae: 0.0659\n",
            "Epoch 92/100\n",
            "4/4 [==============================] - 0s 4ms/step - loss: 0.0057 - mae: 0.0650\n",
            "Epoch 93/100\n",
            "4/4 [==============================] - 0s 3ms/step - loss: 0.0055 - mae: 0.0642\n",
            "Epoch 94/100\n",
            "4/4 [==============================] - 0s 3ms/step - loss: 0.0053 - mae: 0.0631\n",
            "Epoch 95/100\n",
            "4/4 [==============================] - 0s 4ms/step - loss: 0.0052 - mae: 0.0622\n",
            "Epoch 96/100\n",
            "4/4 [==============================] - 0s 5ms/step - loss: 0.0050 - mae: 0.0614\n",
            "Epoch 97/100\n",
            "4/4 [==============================] - 0s 5ms/step - loss: 0.0049 - mae: 0.0608\n",
            "Epoch 98/100\n",
            "4/4 [==============================] - 0s 3ms/step - loss: 0.0048 - mae: 0.0600\n",
            "Epoch 99/100\n",
            "4/4 [==============================] - 0s 4ms/step - loss: 0.0047 - mae: 0.0593\n",
            "Epoch 100/100\n",
            "4/4 [==============================] - 0s 4ms/step - loss: 0.0046 - mae: 0.0583\n"
          ],
          "name": "stdout"
        }
      ]
    },
    {
      "cell_type": "code",
      "metadata": {
        "colab": {
          "base_uri": "https://localhost:8080/",
          "height": 265
        },
        "id": "x2dth_WkwrH8",
        "outputId": "09475ddb-a701-428f-9546-e73c5f1953d5"
      },
      "source": [
        "plt.plot(fit_hist.history['loss'])\n",
        "plt.show()"
      ],
      "execution_count": 20,
      "outputs": [
        {
          "output_type": "display_data",
          "data": {
            "image/png": "[encoded data removed]",
            "text/plain": [
              "<Figure size 432x288 with 1 Axes>"
            ]
          },
          "metadata": {
            "tags": [],
            "needs_background": "light"
          }
        }
      ]
    },
    {
      "cell_type": "code",
      "metadata": {
        "colab": {
          "base_uri": "https://localhost:8080/"
        },
        "id": "jrulkVMrw9tc",
        "outputId": "3709eeab-cf51-4c88-eb4c-9963c5f75d0a"
      },
      "source": [
        "print(model.predict([1]))"
      ],
      "execution_count": 21,
      "outputs": [
        {
          "output_type": "stream",
          "text": [
            "[[2.0134165]]\n"
          ],
          "name": "stdout"
        }
      ]
    },
    {
      "cell_type": "code",
      "metadata": {
        "id": "fslcdUkkzGlj"
      },
      "source": [
        "model.save(\"/content/after_learning.h5\")"
      ],
      "execution_count": 22,
      "outputs": []
    },
    {
      "cell_type": "code",
      "metadata": {
        "colab": {
          "base_uri": "https://localhost:8080/"
        },
        "id": "SlAVs3b62Olt",
        "outputId": "dcbc748b-45c3-4644-b908-0cc806b2f18a"
      },
      "source": [
        "noise = np.array(np.random.normal(0, 0.1, 100))\n",
        "print(noise)"
      ],
      "execution_count": 24,
      "outputs": [
        {
          "output_type": "stream",
          "text": [
            "[ 0.14789667 -0.04978338 -0.04565742 -0.07867241  0.01363374  0.06556664\n",
            " -0.1520349  -0.01886724  0.04859842 -0.05000201  0.0061019   0.01313166\n",
            "  0.10121413 -0.0879922  -0.06839472  0.02869279 -0.03658777  0.05177395\n",
            "  0.214445    0.01598275  0.02020767 -0.05154723 -0.05501233  0.04858788\n",
            " -0.09886811 -0.06269523 -0.21279283 -0.01351963  0.03963264 -0.09693607\n",
            "  0.01259934 -0.03684804 -0.0752635   0.02016141 -0.0128238   0.07411351\n",
            "  0.03400674  0.06304997  0.01828762 -0.12967517 -0.02209147 -0.1163584\n",
            "  0.09546407 -0.14251614 -0.16687983  0.12100962 -0.09904058  0.15989077\n",
            "  0.07290758  0.05702156  0.10866059 -0.13277854  0.18069291 -0.18352278\n",
            "  0.18579135 -0.0141167  -0.12962014 -0.10075428 -0.00304351  0.00216708\n",
            "  0.15321807  0.02328844 -0.04563117 -0.07267628  0.02419415  0.19019996\n",
            " -0.14907892 -0.04319134 -0.00370196  0.08164248  0.17390995  0.04064561\n",
            "  0.17629085 -0.05803858  0.0431112  -0.02139907  0.11155937  0.00675284\n",
            " -0.00223094  0.03703335  0.0011925   0.11517337 -0.07168885  0.03621587\n",
            " -0.05443865 -0.11016793  0.02136463  0.00886626 -0.16660693  0.0558345\n",
            "  0.05350655  0.09163559 -0.00833581  0.1370466  -0.03024902 -0.0535571\n",
            "  0.07843977 -0.21664189  0.0013299   0.11350601]\n"
          ],
          "name": "stdout"
        }
      ]
    },
    {
      "cell_type": "code",
      "metadata": {
        "id": "VG5xK3vt2a5s"
      },
      "source": [
        "noised_scaled_data_F = scaled_data_F + noise"
      ],
      "execution_count": 25,
      "outputs": []
    },
    {
      "cell_type": "code",
      "metadata": {
        "colab": {
          "base_uri": "https://localhost:8080/",
          "height": 265
        },
        "id": "jen6CF-_2l2b",
        "outputId": "032a2c54-91ef-4f21-82c3-a2f6b98f0e39"
      },
      "source": [
        "plt.scatter(x=scaled_data_C, y=scaled_data_F)\n",
        "plt.show()"
      ],
      "execution_count": 26,
      "outputs": [
        {
          "output_type": "display_data",
          "data": {
            "image/png": "[encoded data removed]",
            "text/plain": [
              "<Figure size 432x288 with 1 Axes>"
            ]
          },
          "metadata": {
            "tags": [],
            "needs_background": "light"
          }
        }
      ]
    },
    {
      "cell_type": "code",
      "metadata": {
        "colab": {
          "base_uri": "https://localhost:8080/",
          "height": 265
        },
        "id": "MwRTclTn22rc",
        "outputId": "1c72d2bd-bec7-4fc9-b278-f5a3e8de4696"
      },
      "source": [
        "plt.scatter(x=scaled_data_C, y=noised_scaled_data_F)\n",
        "plt.show()"
      ],
      "execution_count": 27,
      "outputs": [
        {
          "output_type": "display_data",
          "data": {
            "image/png": "[encoded data removed]",
            "text/plain": [
              "<Figure size 432x288 with 1 Axes>"
            ]
          },
          "metadata": {
            "tags": [],
            "needs_background": "light"
          }
        }
      ]
    }
  ]
}