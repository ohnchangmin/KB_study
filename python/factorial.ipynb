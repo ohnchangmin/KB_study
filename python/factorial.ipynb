{
 "cells": [
  {
   "cell_type": "code",
   "execution_count": 1,
   "metadata": {},
   "outputs": [
    {
     "name": "stdout",
     "output_type": "stream",
     "text": [
      "숫자를 입력하세요: 10\n",
      "362880\n"
     ]
    }
   ],
   "source": [
    "a=int(input('숫자를 입력하세요: '))\n",
    "\n",
    "def fac(num):\n",
    "    result = 1\n",
    "    for i in range(1, num):\n",
    "        result *= i\n",
    "    print(result)\n",
    "\n",
    "fac(a)"
   ]
  }
 ],
 "metadata": {
  "kernelspec": {
   "display_name": "Python 3",
   "language": "python",
   "name": "python3"
  },
  "language_info": {
   "codemirror_mode": {
    "name": "ipython",
    "version": 3
   },
   "file_extension": ".py",
   "mimetype": "text/x-python",
   "name": "python",
   "nbconvert_exporter": "python",
   "pygments_lexer": "ipython3",
   "version": "3.8.5"
  }
 },
 "nbformat": 4,
 "nbformat_minor": 4
}
