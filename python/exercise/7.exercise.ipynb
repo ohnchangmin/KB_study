{
 "cells": [
  {
   "cell_type": "code",
   "execution_count": 7,
   "metadata": {},
   "outputs": [
    {
     "name": "stdout",
     "output_type": "stream",
     "text": [
      "1997\n"
     ]
    }
   ],
   "source": [
    "#7.1\n",
    "years_list = [1994, 1995, 1996, 1997, 1998]\n",
    "#years_list = x for x in range(1994, 1999)\n",
    "print(years_list[3])"
   ]
  },
  {
   "cell_type": "code",
   "execution_count": 54,
   "metadata": {},
   "outputs": [
    {
     "name": "stdout",
     "output_type": "stream",
     "text": [
      "1997\n"
     ]
    }
   ],
   "source": [
    "#7.2\n",
    "print(years_list[3])"
   ]
  },
  {
   "cell_type": "code",
   "execution_count": 53,
   "metadata": {},
   "outputs": [
    {
     "name": "stdout",
     "output_type": "stream",
     "text": [
      "1998\n"
     ]
    }
   ],
   "source": [
    "#7.3\n",
    "print(years_list[-1])"
   ]
  },
  {
   "cell_type": "code",
   "execution_count": 68,
   "metadata": {},
   "outputs": [
    {
     "name": "stdout",
     "output_type": "stream",
     "text": [
      "['mozzarella', 'cinderella', 'salmonella']\n"
     ]
    }
   ],
   "source": [
    "#7.4\n",
    "things = ['mozzarella', 'cinderella', 'salmonella']\n",
    "print(things)"
   ]
  },
  {
   "cell_type": "code",
   "execution_count": 70,
   "metadata": {
    "scrolled": true
   },
   "outputs": [
    {
     "name": "stdout",
     "output_type": "stream",
     "text": [
      "['MOZZARELLA', 'cinderella', 'salmonella']\n"
     ]
    }
   ],
   "source": [
    "#7.6\n",
    "things[0] = things[0].upper()\n",
    "print(things)"
   ]
  },
  {
   "cell_type": "code",
   "execution_count": 71,
   "metadata": {
    "scrolled": false
   },
   "outputs": [
    {
     "name": "stdout",
     "output_type": "stream",
     "text": [
      "['Groucho', 'Chico', 'Harpo']\n"
     ]
    }
   ],
   "source": [
    "#7.8\n",
    "surprise = ['Groucho', 'Chico', 'Harpo']\n",
    "print(surprise)"
   ]
  },
  {
   "cell_type": "code",
   "execution_count": 79,
   "metadata": {},
   "outputs": [
    {
     "name": "stdout",
     "output_type": "stream",
     "text": [
      "['Groucho', 'Chico', 'harpo']\n"
     ]
    }
   ],
   "source": [
    "#7.9\n",
    "surprise = ['Groucho', 'Chico', 'Harpo']\n",
    "surprise[-1] = surprise[-1].lower()\n",
    "print(surprise)"
   ]
  },
  {
   "cell_type": "code",
   "execution_count": 80,
   "metadata": {},
   "outputs": [
    {
     "name": "stdout",
     "output_type": "stream",
     "text": [
      "[0, 2, 4, 6, 8]\n"
     ]
    }
   ],
   "source": [
    "#7.10\n",
    "number_list = [number for number in range(10) if number % 2 == 0]\n",
    "print(number_list)"
   ]
  },
  {
   "cell_type": "code",
   "execution_count": 89,
   "metadata": {},
   "outputs": [
    {
     "name": "stdout",
     "output_type": "stream",
     "text": [
      "Fee! Fie! Foe! Flop! Fope! Fa! Fudge! Fat! Fog! Fun! "
     ]
    }
   ],
   "source": [
    "#7.11\n",
    "start1 = [\"fee\", \"fie\", \"foe\"]\n",
    "rhymes = [\n",
    "    (\"flop\", \"get a mop\"),\n",
    "    (\"fope\", \"turn the rope\"),\n",
    "    (\"fa\", \"get your ma\"),\n",
    "    (\"fudge\", \"call the judge\"),\n",
    "    (\"fat\", \"pet the cat\"),\n",
    "    (\"fog\", \"walk the dog\"),\n",
    "    (\"fun\", \"say we're done\"),\n",
    "]\n",
    "\n",
    "start2 = \"someone better\"\n",
    "\n",
    "for i in start1:\n",
    "    print(i.title() + \"!\", end = \" \")\n",
    "\n",
    "for i in range(0,len(rhymes)):\n",
    "    print(rhymes[i][0].title() + \"!\", end = \" \")"
   ]
  },
  {
   "cell_type": "code",
   "execution_count": null,
   "metadata": {},
   "outputs": [],
   "source": []
  }
 ],
 "metadata": {
  "kernelspec": {
   "display_name": "Python 3",
   "language": "python",
   "name": "python3"
  },
  "language_info": {
   "codemirror_mode": {
    "name": "ipython",
    "version": 3
   },
   "file_extension": ".py",
   "mimetype": "text/x-python",
   "name": "python",
   "nbconvert_exporter": "python",
   "pygments_lexer": "ipython3",
   "version": "3.8.5"
  }
 },
 "nbformat": 4,
 "nbformat_minor": 4
}
