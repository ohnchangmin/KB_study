{
 "cells": [
  {
   "cell_type": "code",
   "execution_count": 3,
   "metadata": {},
   "outputs": [],
   "source": [
    "class Unit:\n",
    "    def __init__(self, hp, attack, mineral, gas, popular):\n",
    "        self.hp = hp\n",
    "        self.attack = attack\n",
    "        self.mineral = mineral\n",
    "        self.gas = gas\n",
    "        self.popular = popular\n",
    "        \n",
    "    def Attack(self):\n",
    "        print('상대를 공격합니다.')\n",
    "        \n",
    "    def Move(self):\n",
    "        print('이동합니다.')\n",
    "    \n",
    "    def Stop(self):\n",
    "        print('멈춥니다.')"
   ]
  },
  {
   "cell_type": "code",
   "execution_count": 4,
   "metadata": {},
   "outputs": [],
   "source": [
    "class Marrine(Unit):\n",
    "    def stimpack(self):\n",
    "        if self.hp > 10:\n",
    "            self.hp -= 10\n",
    "            print(\"스팀팩을 사용합니다.\")\n",
    "            \n",
    "        else:\n",
    "            self.hp = 1\n",
    "            print(\"스팀팩을 사용합니다.\")"
   ]
  },
  {
   "cell_type": "code",
   "execution_count": 5,
   "metadata": {},
   "outputs": [],
   "source": [
    "class Ghost(Unit):\n",
    "    def nuclear(self):\n",
    "        print(\"Nuclear launch detected\")"
   ]
  },
  {
   "cell_type": "code",
   "execution_count": 6,
   "metadata": {},
   "outputs": [],
   "source": [
    "marrine = Marrine(45, 6, 50, 0, 1)\n",
    "ghost = Ghost(45, 10, 25, 75, 1)"
   ]
  },
  {
   "cell_type": "code",
   "execution_count": 9,
   "metadata": {},
   "outputs": [
    {
     "name": "stdout",
     "output_type": "stream",
     "text": [
      "상대를 공격합니다.\n",
      "마린의 HP:  15\n",
      "Nuclear launch detected\n",
      "상대를 공격합니다.\n",
      "고스트의 HP:  27\n"
     ]
    }
   ],
   "source": [
    "while True:\n",
    "    input(\"1.마린을 공격합니다. 2.핵을 사용합니다. 3.\")\n",
    "    ghost.Attack()\n",
    "    marrine.hp -= ghost.attack\n",
    "    print(\"마린의 HP: \", marrine.hp)\n",
    "    ghost.nuclear()\n",
    "\n",
    "marrine.Attack()\n",
    "ghost.hp -= marrine.attack\n",
    "print(\"고스트의 HP: \", ghost.hp)\n"
   ]
  }
 ],
 "metadata": {
  "kernelspec": {
   "display_name": "Python 3",
   "language": "python",
   "name": "python3"
  },
  "language_info": {
   "codemirror_mode": {
    "name": "ipython",
    "version": 3
   },
   "file_extension": ".py",
   "mimetype": "text/x-python",
   "name": "python",
   "nbconvert_exporter": "python",
   "pygments_lexer": "ipython3",
   "version": "3.8.5"
  }
 },
 "nbformat": 4,
 "nbformat_minor": 4
}
