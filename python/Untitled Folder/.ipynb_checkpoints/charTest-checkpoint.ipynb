{
 "cells": [
  {
   "cell_type": "code",
   "execution_count": 6,
   "metadata": {},
   "outputs": [
    {
     "name": "stdout",
     "output_type": "stream",
     "text": [
      "SKIDDP\n",
      "SEOUL\n"
     ]
    }
   ],
   "source": [
    "class arr:\n",
    "    a = [\"Seoul\", \"Kyeonggi\", \"Inchon\", \"Daejoen\", \"Daegu\", \"Pusan\"]\n",
    "str01=''\n",
    "for i in arr.a:\n",
    "    str01 = str01+i[0]\n",
    "print(str01)\n",
    "\n",
    "str02 = ''\n",
    "str02 = str02 + \"SEOUL\"\n",
    "print(str02)"
   ]
  }
 ],
 "metadata": {
  "kernelspec": {
   "display_name": "Python 3",
   "language": "python",
   "name": "python3"
  },
  "language_info": {
   "codemirror_mode": {
    "name": "ipython",
    "version": 3
   },
   "file_extension": ".py",
   "mimetype": "text/x-python",
   "name": "python",
   "nbconvert_exporter": "python",
   "pygments_lexer": "ipython3",
   "version": "3.8.5"
  }
 },
 "nbformat": 4,
 "nbformat_minor": 4
}
