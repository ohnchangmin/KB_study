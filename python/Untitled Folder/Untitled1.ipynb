{
 "cells": [
  {
   "cell_type": "code",
   "execution_count": 10,
   "metadata": {},
   "outputs": [],
   "source": [
    "from tkinter import Tk, ttk, Label, Button, Text, END\n",
    "window = Tk()\n",
    "window.title(\"지하철 승하차 인원관리 프로그램 v1.0\")\n",
    "window.geometry(\"400x400\")\n",
    "window.resizable(0,0)\n",
    "\n",
    "title = \"지하철 승하차 인원관리\"\n",
    "title_feature = Label(window, text = title, font = (\"Century Gothic\", 20))\n",
    "title_feature.pack(padx = 10, pady = 15)\n",
    "\n",
    "treeTable = ttk.Treeview(window)\n",
    "treeTable[\"columns\"] = (\"station\", \"ride\", \"alight\")\n",
    "treeTable.column(\"#0\", width = 50)\n",
    "treeTable.column(\"station\", width = 100)\n",
    "treeTable.column(\"ride\", width = 50)\n",
    "treeTable.column(\"alight\", width = 50)\n",
    "\n",
    "treeTable.heading(\"#0\", text = \"NO.\", anchor = \"center\")\n",
    "treeTable.heading(\"#0\", text = \"역이름\", anchor = \"center\")\n",
    "treeTable.heading(\"#0\", text = \"승차인원\", anchor = \"center\")\n",
    "treeTable.heading(\"#0\", text = \"하차인원\", anchor = \"center\")\n",
    "\n",
    "treeTable.place(x = 10, y = 90, width = 380, height = 200)\n",
    "\n",
    "\n",
    "#setTableItems()\n",
    "\n",
    "\n",
    "\n",
    "\n",
    "\n",
    "window.mainloop()"
   ]
  }
 ],
 "metadata": {
  "kernelspec": {
   "display_name": "Python 3",
   "language": "python",
   "name": "python3"
  },
  "language_info": {
   "codemirror_mode": {
    "name": "ipython",
    "version": 3
   },
   "file_extension": ".py",
   "mimetype": "text/x-python",
   "name": "python",
   "nbconvert_exporter": "python",
   "pygments_lexer": "ipython3",
   "version": "3.8.5"
  }
 },
 "nbformat": 4,
 "nbformat_minor": 4
}
