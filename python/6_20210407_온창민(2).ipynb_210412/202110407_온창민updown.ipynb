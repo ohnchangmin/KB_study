{
 "cells": [
  {
   "cell_type": "code",
   "execution_count": null,
   "metadata": {},
   "outputs": [],
   "source": [
    "import random\n",
    "number = random.randint(1,999)\n",
    "\n",
    "while True:\n",
    "    num = int(input(\"숫자를 입력하세요: \"))\n",
    "    if num <= 999 and num >=1:\n",
    "        if num > number:\n",
    "            print(\"더 낮은 숫자입니다.\")\n",
    "        elif num < number:\n",
    "            print(\"더 높은 숫자입니다.\")\n",
    "        else:\n",
    "            print(\"정답입니다.\")\n",
    "            break            \n",
    "            \n",
    "    else:\n",
    "        print(\"잘못 입력하셨습니다.\")"
   ]
  },
  {
   "cell_type": "code",
   "execution_count": null,
   "metadata": {},
   "outputs": [],
   "source": []
  }
 ],
 "metadata": {
  "kernelspec": {
   "display_name": "Python 3",
   "language": "python",
   "name": "python3"
  },
  "language_info": {
   "codemirror_mode": {
    "name": "ipython",
    "version": 3
   },
   "file_extension": ".py",
   "mimetype": "text/x-python",
   "name": "python",
   "nbconvert_exporter": "python",
   "pygments_lexer": "ipython3",
   "version": "3.8.5"
  }
 },
 "nbformat": 4,
 "nbformat_minor": 4
}
