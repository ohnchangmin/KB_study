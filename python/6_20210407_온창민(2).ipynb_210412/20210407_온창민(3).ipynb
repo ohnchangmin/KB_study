{
 "cells": [
  {
   "cell_type": "code",
   "execution_count": 11,
   "metadata": {
    "scrolled": true
   },
   "outputs": [
    {
     "name": "stdout",
     "output_type": "stream",
     "text": [
      "[('i', 30), ('the', 17), ('on', 17), ('ground', 12), ('you', 11), ('just', 11), ('everything', 11), ('need', 11), ('is', 11), ('to', 9), ('every', 9), ('but', 9), ('me', 8), ('my', 7), ('they', 7), ('it', 6), ('nah', 6), ('don', 6), ('t', 6), ('hear', 6), ('though', 6), ('', 6), ('life', 5), ('been', 5), ('out', 5), ('and', 5), ('m', 5), ('your', 4), ('day', 4), ('night', 4), ('ve', 4), ('worked', 4), ('whole', 4), ('get', 4), ('down', 4), ('yeah', 4), ('up', 4), ('s', 3), ('a', 3), ('in', 3), ('now', 3), ('seems', 2), ('have', 2), ('with', 2), ('that', 2), ('thinkin', 2), ('back', 2), ('right', 2), ('be', 2), ('like', 2), ('look', 2), ('at', 2), ('never', 2), ('coming', 2), ('high', 2), ('realize', 2), ('what', 2), ('goes', 2), ('must', 2), ('come', 2), ('re', 2), ('runnin', 2), ('of', 2), ('time', 2), ('figured', 2), ('drove', 2), ('by', 2), ('house', 2), ('so', 2), ('far', 2), ('from', 2), ('magic', 1), ('fantastic', 1), ('used', 1), ('hole', 1), ('wall', 1), ('mattress', 1), ('funny', 1), ('when', 1), ('want', 1), ('suddenly', 1), ('find', 1), ('gold', 1), ('plastic', 1), ('world', 1), ('hectic', 1), ('electric', 1), ('waking', 1), ('voice', 1), ('head', 1), ('tryna', 1), ('send', 1), ('message', 1), ('let', 1), ('know', 1), ('single', 1), ('minute', 1), ('without', 1), ('regret', 1), ('way', 1), ('clouds', 1), ('say', 1), ('made', 1)]\n"
     ]
    }
   ],
   "source": [
    "import operator\n",
    "\n",
    "rose = '''My life's been magic, seems fantastic\n",
    "I used to have a hole in the wall with a mattress\n",
    "Funny when you want it, suddenly you have it\n",
    "You find out that your gold's just plastic\n",
    "Every day, every night\n",
    "I've been thinkin' back on you and I\n",
    "Every day, every night\n",
    "I worked my whole life\n",
    "Just to get right, just to be like\n",
    "\"Look at me, I'm never coming down\"\n",
    "I worked my whole life\n",
    "Just to get high, just to realize\n",
    "Everything I need is on the\n",
    "Everything I need is on the ground\n",
    "On the ground\n",
    "Everything I need is on the ground\n",
    "(Nah, but they don't hear me though)\n",
    "(Yeah, what goes up must come down)\n",
    "(Nah, but they don't hear me though)\n",
    "(You're runnin' out of time)\n",
    "My world's been hectic, seems electric\n",
    "But I've been waking up with your voice in my head\n",
    "And I'm tryna send a message and let you know that\n",
    "Every single minute I'm without you, I regret it\n",
    "Every day, every night\n",
    "I've been thinkin' back on you and I\n",
    "Every day, every night\n",
    "I worked my whole life\n",
    "Just to get right, just to be like\n",
    "\"Look at me, I'm never coming down\"\n",
    "I worked my whole life\n",
    "Just to get high, just to realize\n",
    "Everything I need is on the\n",
    "Everything I need is on the ground\n",
    "On the ground\n",
    "Everything I need is on the ground\n",
    "(Nah, but they don't hear me though)\n",
    "(Yeah, what goes up must come down)\n",
    "(Nah, but they don't hear me though)\n",
    "(You're runnin' out of time)\n",
    "I'm way up in the clouds\n",
    "And they say I've made it now\n",
    "But I figured it out\n",
    "Everything I need is on the ground (yeah, yeah)\n",
    "Just drove by your house (just drove by your house)\n",
    "So far from you now (so far from you now)\n",
    "But I figured it out\n",
    "Everything I need is on the\n",
    "Everything I need is on the ground\n",
    "On the ground\n",
    "Everything I need is on the ground\n",
    "(Nah, but they don't hear me though)\n",
    "On the ground\n",
    "(Nah, but they don't hear me though)\n",
    "Everything I need is on the ground'''\n",
    "\n",
    "a = rose.replace('\\n', ' ')\n",
    "a = a.replace(',', ' ')\n",
    "a = a.replace(\"'\", ' ')\n",
    "a = a.replace('\"', ' ')\n",
    "a = a.replace('(', ' ')\n",
    "a = a.replace(')', ' ')\n",
    "a = a.replace('  ', ' ')\n",
    "a = a.lower()\n",
    "word = a.split(' ')\n",
    "\n",
    "count_list=[]\n",
    "for i in word:\n",
    "    count_list.append(word.count(i))\n",
    "    \n",
    "dic_word = dict(zip(word, count_list))\n",
    "\n",
    "#print(dic_word)\n",
    "\n",
    "s_dic_word = sorted(dic_word.items(), key=operator.itemgetter(1), reverse = True)\n",
    "\n",
    "print(s_dic_word)"
   ]
  }
 ],
 "metadata": {
  "kernelspec": {
   "display_name": "Python 3",
   "language": "python",
   "name": "python3"
  },
  "language_info": {
   "codemirror_mode": {
    "name": "ipython",
    "version": 3
   },
   "file_extension": ".py",
   "mimetype": "text/x-python",
   "name": "python",
   "nbconvert_exporter": "python",
   "pygments_lexer": "ipython3",
   "version": "3.8.5"
  }
 },
 "nbformat": 4,
 "nbformat_minor": 4
}
