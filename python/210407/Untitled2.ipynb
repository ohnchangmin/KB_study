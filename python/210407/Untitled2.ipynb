{
 "cells": [
  {
   "cell_type": "code",
   "execution_count": 39,
   "metadata": {},
   "outputs": [
    {
     "name": "stdout",
     "output_type": "stream",
     "text": [
      "an English submarine 이름은 (Ducky McDuckface)로 지어졌다.\n",
      "an Australian racehorse 이름은 Gourdy McGourdface)로 지어졌다.\n",
      "an Swedish train 이름은 (Spitzy McSpitzface)로 지어졌다.\n"
     ]
    }
   ],
   "source": [
    "a = 'duck'\n",
    "b = 'gourd'\n",
    "c = 'spitz'\n",
    "\n",
    "a1 = a.capitalize()\n",
    "b1 = b.capitalize()\n",
    "c1 = c.capitalize()\n",
    "print(\"an English submarine 이름은 (%sy Mc%sface)로 지어졌다.\"% (a1,a1))\n",
    "print(\"an Australian racehorse 이름은 %sy Mc%sface)로 지어졌다.\" % (b1,b1))\n",
    "print(\"an Swedish train 이름은 (%sy Mc%sface)로 지어졌다.\"% (c1,c1))"
   ]
  },
  {
   "cell_type": "code",
   "execution_count": 40,
   "metadata": {
    "scrolled": true
   },
   "outputs": [
    {
     "name": "stdout",
     "output_type": "stream",
     "text": [
      "an English submarine 이름은 (Ducky McDucksface)로 지어졌다.\n",
      "an Australian racehorse 이름은 (Gourdy McGourdsface)로 지어졌다.\n",
      "an Swedish train 이름은 (Spitzy McSpitzsface)로 지어졌다.\n"
     ]
    }
   ],
   "source": [
    "print(\"an English submarine 이름은 ({}y Mc{}face)로 지어졌다.\".format(a1,a1))\n",
    "print(\"an Australian racehorse 이름은 ({}y Mc{}face)로 지어졌다.\".format(b1,b1))\n",
    "print(\"an Swedish train 이름은 ({}y Mc{}face)로 지어졌다.\".format(c1,c1))"
   ]
  },
  {
   "cell_type": "code",
   "execution_count": 42,
   "metadata": {},
   "outputs": [
    {
     "name": "stdout",
     "output_type": "stream",
     "text": [
      "an English submarine 이름은 (Ducky McDuckface)로 지어졌다.\n",
      "an Australian racehorse 이름은 (Gourdy McGourdface)로 지어졌다.\n",
      "an Swedish train 이름은 (Spitzy McSpitzface)로 지어졌다.\n"
     ]
    }
   ],
   "source": [
    "print(f'an English submarine 이름은 ({a1}y Mc{a1}face)로 지어졌다.')\n",
    "print(f'an Australian racehorse 이름은 ({b1}y Mc{b1}face)로 지어졌다.')\n",
    "print(f'an Swedish train 이름은 ({c1}y Mc{c1}face)로 지어졌다.')"
   ]
  },
  {
   "cell_type": "code",
   "execution_count": null,
   "metadata": {},
   "outputs": [],
   "source": []
  }
 ],
 "metadata": {
  "kernelspec": {
   "display_name": "Python 3",
   "language": "python",
   "name": "python3"
  },
  "language_info": {
   "codemirror_mode": {
    "name": "ipython",
    "version": 3
   },
   "file_extension": ".py",
   "mimetype": "text/x-python",
   "name": "python",
   "nbconvert_exporter": "python",
   "pygments_lexer": "ipython3",
   "version": "3.8.5"
  }
 },
 "nbformat": 4,
 "nbformat_minor": 4
}
