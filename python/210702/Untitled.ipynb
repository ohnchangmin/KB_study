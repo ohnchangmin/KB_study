{
 "cells": [
  {
   "cell_type": "code",
   "execution_count": 2,
   "metadata": {},
   "outputs": [],
   "source": [
    "import requests\n",
    "from bs4 import BeautifulSoup\n",
    "\n",
    "url = \"http://www.kric.go.kr/jsp/industry/rss/citystapassList.jsp?q_org_cd=A010010024&q_fdate=2021\"\n",
    "htmlText = requests.get(url).text\n",
    "bsoup = BeautifulSoup(htmlText, \"html.parser\")\n",
    "btab = bsoup.find(\"table\", {\"class\":\"listtbl_c100\"})\n",
    "btrs = btab.find(\"tbody\").find_all(\"tr\")\n",
    "btdcols = btrs[1].find_all(\"td\", {\"class\" : \"tdcol\"})\n",
    "btds = btrs[1].find_all(\"td\")\n",
    "\n",
    "passengers = []\n",
    "\n",
    "for tr in btrs[1:] :\n",
    "    dic = {}\n",
    "    tds = tr.find_all(\"td\")\n",
    "    dic['station'] = tds[0].text\n",
    "    dic['ride'] = tds[2].text\n",
    "    dic['alight'] = tds[3].text\n",
    "    passengers.append(dic)"
   ]
  },
  {
   "cell_type": "code",
   "execution_count": 3,
   "metadata": {},
   "outputs": [],
   "source": [
    "from tkinter import Tk, ttk, Label, Button, Text, END\n",
    "window = Tk()\n",
    "window.title(\"지하철 승하차 인원관리 프로그램 v1.0\")\n",
    "window.geometry(\"400x400\")\n",
    "window.resizable(0,0)\n",
    "\n",
    "title = \"지하철 승하차 인원관리\"\n",
    "title_feature = Label(window, text = title, font = (\"Century Gothic\", 20))\n",
    "title_feature.pack(padx = 10, pady = 15)\n",
    "\n",
    "treeTable = ttk.Treeview(window)\n",
    "treeTable[\"columns\"] = (\"station\", \"ride\", \"alight\")\n",
    "treeTable.column(\"#0\", width = 50 , anchor = \"center\")\n",
    "treeTable.column(\"station\", width = 100, anchor = \"center\")\n",
    "treeTable.column(\"ride\", width = 50, anchor = \"center\")\n",
    "treeTable.column(\"alight\", width = 50, anchor = \"center\")\n",
    "\n",
    "treeTable.heading(\"#0\", text = \"NO.\", anchor = \"center\")\n",
    "treeTable.heading(\"station\", text = \"역이름\", anchor = \"center\")\n",
    "treeTable.heading(\"ride\", text = \"승차인원\", anchor = \"center\")\n",
    "treeTable.heading(\"alight\", text = \"하차인원\", anchor = \"center\")\n",
    "\n",
    "def setTableItems():\n",
    "    treeTable.delete(*treeTable.get_children())\n",
    "    for idx, report in enumerate(passengers):\n",
    "        station = report['station']\n",
    "        ride = report['ride']\n",
    "        alight = report['alight']\n",
    "        treeTable.insert(\"\", 'end', iid = None, text = str(idx), values = [station, ride, alight])\n",
    "\n",
    "\n",
    "setTableItems()\n",
    "treeTable.place(x = 10, y = 90, width = 380, height = 200)\n",
    "\n",
    "\n",
    "\n",
    "\n",
    "\n",
    "window.mainloop()"
   ]
  },
  {
   "cell_type": "code",
   "execution_count": 7,
   "metadata": {},
   "outputs": [
    {
     "data": {
      "text/plain": [
       "[<td class=\"tdcol\">대곡역</td>, <td class=\"tdcol\">1호선</td>]"
      ]
     },
     "execution_count": 7,
     "metadata": {},
     "output_type": "execute_result"
    }
   ],
   "source": [
    "btdcols"
   ]
  },
  {
   "cell_type": "code",
   "execution_count": 1,
   "metadata": {},
   "outputs": [],
   "source": [
    "from tkinter import *\n",
    "from tkinter import ttk\n",
    "from tkinter import messagebox\n",
    "win = Tk()\n",
    "win.title(\"Raspberry Pi UI\")\n",
    "win.geometry('200x100+200+200')\n",
    "\n",
    "def ok():\n",
    "        str = 'nothing selected'\n",
    "        if radVar.get() == 1:\n",
    "                str = \"Radio 1 selected\"\n",
    "        if radVar.get() == 2:\n",
    "                str = \"Radio 2 selected\"\n",
    "        messagebox.showinfo(\"Button Clickec\", str)\n",
    "\n",
    "radVar = IntVar()\n",
    "r1=ttk.Radiobutton(win, text=\"Radio 1\", variable=radVar,  value=1)\n",
    "r1.grid(column=0, row=0)\n",
    "r2=ttk.Radiobutton(win, text=\"Radio 2\", variable=radVar, value=2)\n",
    "r2.grid(column=0, row=1)\n",
    "action = ttk.Button(win, text = \"Click Me\", command = ok)\n",
    "action.grid(column=0, row=2)\n",
    "win.mainloop()"
   ]
  },
  {
   "cell_type": "code",
   "execution_count": 2,
   "metadata": {},
   "outputs": [
    {
     "data": {
      "text/plain": [
       "True"
      ]
     },
     "execution_count": 2,
     "metadata": {},
     "output_type": "execute_result"
    }
   ],
   "source": [
    "from tkinter import messagebox\n",
    "messagebox.showinfo(\"메세지 상자\", \"정보 제공하는 메세지 상자\")\n",
    "messagebox.showwarning(\"메세지 상자\", \"노란색 느낌표 아이콘 상자\")\n",
    "messagebox.showerror(\"메세지 상자\", \"빨간 엑스 아이콘 상자\")\n",
    "messagebox.askquestion(\"메세지 상자\", \"파란 물음표 아이콘 상자\")\n",
    "messagebox.askokcancel(\"메세지 상자\", \"ok와 cancle 중 선택\")\n",
    "messagebox.askyesno(\"메세지 상자\", \"yes와 no 중 선택.\")\n",
    "messagebox.askretrycancel(\"메세지 상자\", \"재시도와 취소 중 선택.\")"
   ]
  }
 ],
 "metadata": {
  "kernelspec": {
   "display_name": "Python 3",
   "language": "python",
   "name": "python3"
  },
  "language_info": {
   "codemirror_mode": {
    "name": "ipython",
    "version": 3
   },
   "file_extension": ".py",
   "mimetype": "text/x-python",
   "name": "python",
   "nbconvert_exporter": "python",
   "pygments_lexer": "ipython3",
   "version": "3.8.5"
  }
 },
 "nbformat": 4,
 "nbformat_minor": 4
}
