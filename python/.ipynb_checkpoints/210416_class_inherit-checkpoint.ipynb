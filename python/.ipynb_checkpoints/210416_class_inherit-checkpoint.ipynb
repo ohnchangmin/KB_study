{
 "cells": [
  {
   "cell_type": "code",
   "execution_count": 8,
   "metadata": {},
   "outputs": [],
   "source": [
    "class Car():\n",
    "    def exclaim(self):\n",
    "        print(\"I'm a Car!\")\n",
    "\n",
    "class Yugo(Car):\n",
    "    def exclaim(self):\n",
    "        print(\"I'm a Yugo! Much like a Car, but more Yugo-ish.\")\n",
    "    def need_a_push(self):\n",
    "        print(\"A little help here?\")"
   ]
  },
  {
   "cell_type": "code",
   "execution_count": 5,
   "metadata": {},
   "outputs": [
    {
     "data": {
      "text/plain": [
       "True"
      ]
     },
     "execution_count": 5,
     "metadata": {},
     "output_type": "execute_result"
    }
   ],
   "source": [
    "issubclass(Yugo, Car)"
   ]
  },
  {
   "cell_type": "code",
   "execution_count": 10,
   "metadata": {},
   "outputs": [
    {
     "name": "stdout",
     "output_type": "stream",
     "text": [
      "I'm a Car!\n",
      "I'm a Yugo! Much like a Car, but more Yugo-ish.\n",
      "A little help here?\n"
     ]
    }
   ],
   "source": [
    "give_me_a_car = Car()\n",
    "give_me_a_yugo = Yugo()\n",
    "give_me_a_car.exclaim()\n",
    "give_me_a_yugo.exclaim()\n",
    "give_me_a_yugo.need_a_push()"
   ]
  },
  {
   "cell_type": "code",
   "execution_count": 29,
   "metadata": {},
   "outputs": [],
   "source": [
    "class Character:\n",
    "    def __init__(self, name, age, skill):\n",
    "        self.name = name\n",
    "        self.age = age\n",
    "        self.skill = skill\n",
    "    \n",
    "    def getitem(self):\n",
    "        print(\"아이템을 획득했습니다.\")\n",
    "    \n",
    "    def sellitem(self):\n",
    "        print(\"아이템을 판매합니다.\")"
   ]
  },
  {
   "cell_type": "code",
   "execution_count": 30,
   "metadata": {},
   "outputs": [],
   "source": [
    "class GameCharacter(Character):\n",
    "    \n",
    "    \n",
    "    def changeitem(self):\n",
    "        print(\"아이템을 교환합니다.\")\n",
    "        \n",
    "    def getitem(self):\n",
    "        print(\"gamecharacter가\")\n",
    "        super().getitem()\n",
    "    \n",
    "    def sellitem(self):\n",
    "        print(\"gamechracter가\")\n",
    "        super().sellitem()"
   ]
  },
  {
   "cell_type": "code",
   "execution_count": 32,
   "metadata": {},
   "outputs": [
    {
     "name": "stdout",
     "output_type": "stream",
     "text": [
      "Lufy 18 고무고무 피스톨\n",
      "gamecharacter가\n",
      "아이템을 획득했습니다.\n",
      "gamechracter가\n",
      "아이템을 판매합니다.\n",
      "아이템을 교환합니다.\n"
     ]
    }
   ],
   "source": [
    "lufy = GameCharacter(\"Lufy\", 18, \"고무고무 피스톨\")\n",
    "\n",
    "print(lufy.name, lufy.age, lufy.skill)\n",
    "lufy.getitem()\n",
    "lufy.sellitem()\n",
    "lufy.changeitem()"
   ]
  }
 ],
 "metadata": {
  "kernelspec": {
   "display_name": "Python 3",
   "language": "python",
   "name": "python3"
  },
  "language_info": {
   "codemirror_mode": {
    "name": "ipython",
    "version": 3
   },
   "file_extension": ".py",
   "mimetype": "text/x-python",
   "name": "python",
   "nbconvert_exporter": "python",
   "pygments_lexer": "ipython3",
   "version": "3.8.5"
  }
 },
 "nbformat": 4,
 "nbformat_minor": 4
}
