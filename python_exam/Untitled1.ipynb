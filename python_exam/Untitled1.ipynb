{
 "cells": [
  {
   "cell_type": "code",
   "execution_count": 2,
   "metadata": {},
   "outputs": [
    {
     "data": {
      "text/plain": [
       "{'day': 'A period of twenty-four hours, mostly misspent',\n",
       " 'positive': \"Mistaken at the top of one's voice\",\n",
       " 'misfortune': 'The kind of fortune that never misses'}"
      ]
     },
     "execution_count": 2,
     "metadata": {},
     "output_type": "execute_result"
    }
   ],
   "source": [
    "bierce = {\n",
    "    \"day\" : \"A period of twenty-four hours, mostly misspent\",\n",
    "    \"positive\" : \"Mistaken at the top of one's voice\",\n",
    "    \"misfortune\" : \"The kind of fortune that never misses\",\n",
    "}\n",
    "\n",
    "bierce"
   ]
  },
  {
   "cell_type": "code",
   "execution_count": 6,
   "metadata": {},
   "outputs": [
    {
     "data": {
      "text/plain": [
       "'while'"
      ]
     },
     "execution_count": 6,
     "metadata": {},
     "output_type": "execute_result"
    }
   ],
   "source": [
    "acme_customer = {'first': 'while', 'middle': 'E', 'last': 'coyote'}\n",
    "\n",
    "dict(acme_customer)\n",
    "\n",
    "acme_customer['first']"
   ]
  },
  {
   "cell_type": "code",
   "execution_count": 20,
   "metadata": {},
   "outputs": [
    {
     "name": "stdout",
     "output_type": "stream",
     "text": [
      "['Champman', 'Cleese:', 'Idle', 'jones', 'Palin']\n",
      "['Grahmam', 'John', 'Eric', 'Terry', 'Michale']\n",
      "[('Champman', 'Grahmam'), ('Cleese:', 'John'), ('Idle', 'Eric'), ('jones', 'Terry'), ('Palin', 'Michale')]\n"
     ]
    },
    {
     "data": {
      "text/plain": [
       "5"
      ]
     },
     "execution_count": 20,
     "metadata": {},
     "output_type": "execute_result"
    }
   ],
   "source": [
    "pythons = {\n",
    "    'Champman' : 'Grahmam',\n",
    "    'Cleese:' : 'John',\n",
    "    'Idle' : 'Eric',\n",
    "    'jones' :'Terry',\n",
    "    'Palin' : 'Michale',\n",
    "}\n",
    "a = list(pythons.keys())\n",
    "print(a)\n",
    "b = list(pythons.values())\n",
    "print(b)\n",
    "c = list(pythons.items())\n",
    "print(c)\n",
    "\n",
    "len(pythons)"
   ]
  }
 ],
 "metadata": {
  "kernelspec": {
   "display_name": "Python 3",
   "language": "python",
   "name": "python3"
  },
  "language_info": {
   "codemirror_mode": {
    "name": "ipython",
    "version": 3
   },
   "file_extension": ".py",
   "mimetype": "text/x-python",
   "name": "python",
   "nbconvert_exporter": "python",
   "pygments_lexer": "ipython3",
   "version": "3.8.5"
  }
 },
 "nbformat": 4,
 "nbformat_minor": 4
}
