{
 "cells": [
  {
   "cell_type": "code",
   "execution_count": 1,
   "metadata": {
    "scrolled": true
   },
   "outputs": [
    {
     "name": "stdout",
     "output_type": "stream",
     "text": [
      "['my', 'life', 's', 'been', 'magic', 'seems', 'fantastic', 'i', 'used', 'to', 'have', 'a', 'hole', 'in', 'the', 'wall', 'with', 'mattress', 'funny', 'when', 'you', 'want', 'it', 'suddenly', 'find', 'out', 'that', 'your', 'gold', 'just', 'plastic', 'every', 'day', 'night', 've', 'thinkin', 'back', 'on', 'and', 'worked', 'whole', 'get', 'right', 'be', 'like', 'look', 'at', 'me', 'm', 'never', 'coming', 'down', 'high', 'realize', 'everything', 'need', 'is', 'ground', 'nah', 'but', 'they', 'don', 't', 'hear', 'though', '', 'yeah', 'what', 'goes', 'up', 'must', 'come', 're', 'runnin', 'of', 'time', 'world', 'hectic', 'electric', 'waking', 'voice', 'head', 'tryna', 'send', 'message', 'let', 'know', 'single', 'minute', 'without', 'regret', 'way', 'clouds', 'say', 'made', 'now', 'figured', 'drove', 'by', 'house', 'so', 'far', 'from']\n"
     ]
    }
   ],
   "source": [
    "rose = '''My life's been magic, seems fantastic\n",
    "I used to have a hole in the wall with a mattress\n",
    "Funny when you want it, suddenly you have it\n",
    "You find out that your gold's just plastic\n",
    "Every day, every night\n",
    "I've been thinkin' back on you and I\n",
    "Every day, every night\n",
    "I worked my whole life\n",
    "Just to get right, just to be like\n",
    "\"Look at me, I'm never coming down\"\n",
    "I worked my whole life\n",
    "Just to get high, just to realize\n",
    "Everything I need is on the\n",
    "Everything I need is on the ground\n",
    "On the ground\n",
    "Everything I need is on the ground\n",
    "(Nah, but they don't hear me though)\n",
    "(Yeah, what goes up must come down)\n",
    "(Nah, but they don't hear me though)\n",
    "(You're runnin' out of time)\n",
    "My world's been hectic, seems electric\n",
    "But I've been waking up with your voice in my head\n",
    "And I'm tryna send a message and let you know that\n",
    "Every single minute I'm without you, I regret it\n",
    "Every day, every night\n",
    "I've been thinkin' back on you and I\n",
    "Every day, every night\n",
    "I worked my whole life\n",
    "Just to get right, just to be like\n",
    "\"Look at me, I'm never coming down\"\n",
    "I worked my whole life\n",
    "Just to get high, just to realize\n",
    "Everything I need is on the\n",
    "Everything I need is on the ground\n",
    "On the ground\n",
    "Everything I need is on the ground\n",
    "(Nah, but they don't hear me though)\n",
    "(Yeah, what goes up must come down)\n",
    "(Nah, but they don't hear me though)\n",
    "(You're runnin' out of time)\n",
    "I'm way up in the clouds\n",
    "And they say I've made it now\n",
    "But I figured it out\n",
    "Everything I need is on the ground (yeah, yeah)\n",
    "Just drove by your house (just drove by your house)\n",
    "So far from you now (so far from you now)\n",
    "But I figured it out\n",
    "Everything I need is on the\n",
    "Everything I need is on the ground\n",
    "On the ground\n",
    "Everything I need is on the ground\n",
    "(Nah, but they don't hear me though)\n",
    "On the ground\n",
    "(Nah, but they don't hear me though)\n",
    "Everything I need is on the ground'''\n",
    "\n",
    "a = rose.replace('\\n', ' ')\n",
    "a = a.replace(',', ' ')\n",
    "a = a.replace(\"'\", ' ')\n",
    "a = a.replace('\"', ' ')\n",
    "a = a.replace('(', ' ')\n",
    "a = a.replace(')', ' ')\n",
    "a = a.replace('  ', ' ')\n",
    "a = a.lower()\n",
    "word = a.split(' ')\n",
    "\n",
    "new_word = []\n",
    "for v in word:\n",
    "   if v not in new_word:\n",
    "    new_word.append(v)\n",
    "print(new_word)\n",
    "    "
   ]
  }
 ],
 "metadata": {
  "kernelspec": {
   "display_name": "Python 3",
   "language": "python",
   "name": "python3"
  },
  "language_info": {
   "codemirror_mode": {
    "name": "ipython",
    "version": 3
   },
   "file_extension": ".py",
   "mimetype": "text/x-python",
   "name": "python",
   "nbconvert_exporter": "python",
   "pygments_lexer": "ipython3",
   "version": "3.8.5"
  }
 },
 "nbformat": 4,
 "nbformat_minor": 4
}
