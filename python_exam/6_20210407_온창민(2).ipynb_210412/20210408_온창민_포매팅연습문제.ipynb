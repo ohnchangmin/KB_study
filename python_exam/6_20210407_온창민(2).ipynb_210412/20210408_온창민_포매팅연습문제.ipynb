{
 "cells": [
  {
   "cell_type": "code",
   "execution_count": 6,
   "metadata": {},
   "outputs": [
    {
     "name": "stdout",
     "output_type": "stream",
     "text": [
      "an English submarine 이름은 (Ducky McDuckface)로 지어졌다.\n",
      "an Australian racehorse 이름은 (Gourdy McGourdface)로 지어졌다.\n",
      "an Swedish train 이름은 (McSpitzface)로 지어졌다.\n"
     ]
    }
   ],
   "source": [
    "duck = '(Ducky McDuckface)'\n",
    "gourd = '(Gourdy McGourdface)'\n",
    "spitz = '(McSpitzface)'\n",
    "\n",
    "print(\"an English submarine 이름은 %s로 지어졌다.\"% duck)\n",
    "print(\"an Australian racehorse 이름은 %s로 지어졌다.\" % gourd)\n",
    "print(\"an Swedish train 이름은 %s로 지어졌다.\"% spitz)"
   ]
  },
  {
   "cell_type": "code",
   "execution_count": 11,
   "metadata": {
    "scrolled": true
   },
   "outputs": [
    {
     "name": "stdout",
     "output_type": "stream",
     "text": [
      "an English submarine 이름은 (Ducky McDuckface)로 지어졌다.\n",
      "an Australian racehorse 이름은 (Gourdy McGourdface)로 지어졌다.\n",
      "an Swedish train 이름은 (McSpitzface)로 지어졌다.\n"
     ]
    }
   ],
   "source": [
    "print(\"an English submarine 이름은 {}로 지어졌다.\".format(duck))\n",
    "print(\"an Australian racehorse 이름은 {}로 지어졌다.\".format(gourd))\n",
    "print(\"an Swedish train 이름은 {}로 지어졌다.\".format(spitz))"
   ]
  },
  {
   "cell_type": "code",
   "execution_count": 20,
   "metadata": {},
   "outputs": [
    {
     "name": "stdout",
     "output_type": "stream",
     "text": [
      "an English submarine 이름은 (Ducky McDuckface)로 지어졌다.\n",
      "an Australian racehorse 이름은 (Gourdy McGourdface)로 지어졌다.\n",
      "an Swedish train 이름은 (McSpitzface)로 지어졌다.\n"
     ]
    }
   ],
   "source": [
    "print(f'an English submarine 이름은 {duck}로 지어졌다.')\n",
    "print(f'an Australian racehorse 이름은 {gourd}로 지어졌다.')\n",
    "print(f'an Swedish train 이름은 {spitz}로 지어졌다.')"
   ]
  },
  {
   "cell_type": "code",
   "execution_count": null,
   "metadata": {},
   "outputs": [],
   "source": []
  }
 ],
 "metadata": {
  "kernelspec": {
   "display_name": "Python 3",
   "language": "python",
   "name": "python3"
  },
  "language_info": {
   "codemirror_mode": {
    "name": "ipython",
    "version": 3
   },
   "file_extension": ".py",
   "mimetype": "text/x-python",
   "name": "python",
   "nbconvert_exporter": "python",
   "pygments_lexer": "ipython3",
   "version": "3.8.5"
  }
 },
 "nbformat": 4,
 "nbformat_minor": 4
}
