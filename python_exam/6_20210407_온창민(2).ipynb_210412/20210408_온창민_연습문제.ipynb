{
 "cells": [
  {
   "cell_type": "code",
   "execution_count": 9,
   "metadata": {},
   "outputs": [
    {
     "name": "stdout",
     "output_type": "stream",
     "text": [
      "호박은 크고 녹색이 아니다.\n"
     ]
    }
   ],
   "source": [
    "small = False\n",
    "green = False\n",
    "\n",
    "\n",
    "if(small):\n",
    "    if(green):\n",
    "        print(\"완두콩은 작고 녹색이다.\")\n",
    "    else:\n",
    "        print(\"체리는 작고 녹색이 아니다.\")\n",
    "else:\n",
    "    if(green):\n",
    "        print(\"수박은 크고 녹색이다\")\n",
    "    else:\n",
    "        print(\"호박은 크고 녹색이 아니다.\")\n",
    "        "
   ]
  },
  {
   "cell_type": "code",
   "execution_count": null,
   "metadata": {},
   "outputs": [],
   "source": []
  }
 ],
 "metadata": {
  "kernelspec": {
   "display_name": "Python 3",
   "language": "python",
   "name": "python3"
  },
  "language_info": {
   "codemirror_mode": {
    "name": "ipython",
    "version": 3
   },
   "file_extension": ".py",
   "mimetype": "text/x-python",
   "name": "python",
   "nbconvert_exporter": "python",
   "pygments_lexer": "ipython3",
   "version": "3.8.5"
  }
 },
 "nbformat": 4,
 "nbformat_minor": 4
}
