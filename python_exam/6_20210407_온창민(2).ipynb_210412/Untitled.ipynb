{
 "cells": [
  {
   "cell_type": "code",
   "execution_count": null,
   "metadata": {},
   "outputs": [],
   "source": [
    "import random\n",
    "number = random.randint(1,999)\n",
    "\n",
    "while True:\n",
    "    num = int(input(\"숫자를 입력하세요: \"))\n",
    "        if num > number:\n",
    "            print(\"더 낮은 숫자입니다.\")\n",
    "        \n",
    "        elif num < number:\n",
    "            print(\"더 높은 숫자입니다.\")\n",
    "        \n",
    "        else:\n",
    "            print(\"정답입니다.\")\n",
    "            break"
   ]
  }
 ],
 "metadata": {
  "kernelspec": {
   "display_name": "Python 3",
   "language": "python",
   "name": "python3"
  },
  "language_info": {
   "codemirror_mode": {
    "name": "ipython",
    "version": 3
   },
   "file_extension": ".py",
   "mimetype": "text/x-python",
   "name": "python",
   "nbconvert_exporter": "python",
   "pygments_lexer": "ipython3",
   "version": "3.8.5"
  }
 },
 "nbformat": 4,
 "nbformat_minor": 4
}
