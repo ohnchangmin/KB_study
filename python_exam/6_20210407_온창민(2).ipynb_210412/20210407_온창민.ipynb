{
 "cells": [
  {
   "cell_type": "code",
   "execution_count": 2,
   "metadata": {},
   "outputs": [
    {
     "name": "stdout",
     "output_type": "stream",
     "text": [
      "life is too short\n",
      "love\n"
     ]
    }
   ],
   "source": [
    "c = \"ㅣife\"\n",
    "d = \"is\"\n",
    "e = \"too\"\n",
    "f = \"short\"\n",
    "g = \" \"\n",
    "b = 'v'\n",
    "h = c+g+d+g+e+g+f\n",
    "print(c+g+d+g+e+g+f)\n",
    "print(h[0] + h[9] + b + h[3])\n"
   ]
  },
  {
   "cell_type": "code",
   "execution_count": 4,
   "metadata": {},
   "outputs": [
    {
     "name": "stdout",
     "output_type": "stream",
     "text": [
      "t\n"
     ]
    }
   ],
   "source": [
    "print(h[-1])"
   ]
  },
  {
   "cell_type": "code",
   "execution_count": 7,
   "metadata": {},
   "outputs": [
    {
     "name": "stdout",
     "output_type": "stream",
     "text": [
      "horse\n",
      "life is too short\n"
     ]
    }
   ],
   "source": [
    "print(h[-4] + h[-3] + h[-2] + h[-5] + h[3] )\n",
    "print(h)"
   ]
  },
  {
   "cell_type": "code",
   "execution_count": 9,
   "metadata": {},
   "outputs": [
    {
     "name": "stdout",
     "output_type": "stream",
     "text": [
      "life\n"
     ]
    }
   ],
   "source": [
    "print(h[0:4])"
   ]
  },
  {
   "cell_type": "code",
   "execution_count": 13,
   "metadata": {},
   "outputs": [
    {
     "name": "stdout",
     "output_type": "stream",
     "text": [
      "horse\n"
     ]
    }
   ],
   "source": [
    "print(h[-4:-1] + h[-5] + h[3])"
   ]
  },
  {
   "cell_type": "code",
   "execution_count": 19,
   "metadata": {},
   "outputs": [
    {
     "name": "stdout",
     "output_type": "stream",
     "text": [
      "2021년 04월 07일 맑음\n"
     ]
    }
   ],
   "source": [
    "today = \"20210407맑음\"\n",
    "print(today[:4]+\"년\"+ g + today[4:6]+\"월\" + g +today[6:8]+\"일\" + g +today[8:])\n"
   ]
  },
  {
   "cell_type": "code",
   "execution_count": 20,
   "metadata": {},
   "outputs": [
    {
     "data": {
      "text/plain": [
       "'30310407맑음'"
      ]
     },
     "execution_count": 20,
     "metadata": {},
     "output_type": "execute_result"
    }
   ],
   "source": [
    "today.replace('2','3')"
   ]
  },
  {
   "cell_type": "code",
   "execution_count": 30,
   "metadata": {},
   "outputs": [
    {
     "data": {
      "text/plain": [
       "486"
      ]
     },
     "execution_count": 30,
     "metadata": {},
     "output_type": "execute_result"
    }
   ],
   "source": [
    "bts = \"\"\"Cos ah ah I'm in the stars tonight\n",
    "So watch me bring the fire and set the night alight\n",
    "Shoes on get up in the morn\n",
    "Cup of milk let's rock and roll\n",
    "King Kong kick the drum rolling on like a rolling stone\n",
    "Sing song when I'm walking home\n",
    "Jump up to the top LeBron\n",
    "Ding dong call me on my phone\n",
    "Ice tea and a game of ping pong\n",
    "This is getting heavy\n",
    "Can you hear the bass boom, I'm ready\n",
    "Life is sweet as honey\n",
    "Yeah this beat cha ching like money\n",
    "Disco overload I'm into that I'm good to go\n",
    "I'm diamond you know I glow up\n",
    "Hey, so let's go\n",
    "Cos ah ah I'm in the stars tonight\n",
    "So watch me bring the fire and set the night alight\n",
    "Shining through the city with a little funk and soul\n",
    "So I'mma light it up like dynamite, woah\n",
    "Bring a friend join the crowd\n",
    "Whoever wanna come along\n",
    "Word up talk the talk just move like we off the wall\n",
    "Day or night the sky's alight\n",
    "So we dance to the break of dawn\n",
    "Ladies and gentlemen,\n",
    "I got the medicine so you should keep ya eyes on the ball, huh\n",
    "This is getting heavy\n",
    "Can you hear the bass boom, I'm ready\n",
    "Life is sweet as honey\n",
    "Yeah this beat cha ching like money\n",
    "Disco overload I'm into that I'm good to go\n",
    "I'm diamond you know I glow up\n",
    "Let's go\n",
    "Cos ah ah I'm in the stars tonight\n",
    "So watch me bring the fire and set the night alight\n",
    "Shining through the city with a little funk and soul\n",
    "So I'mma light it up like dynamite, woah\n",
    "Dynnnnnanana, life is dynamite\n",
    "Dynnnnnanana, life is dynamite\n",
    "Shining through the city with a little funk and soul\n",
    "So I'mma light it up like dynamite, woah\n",
    "Dynnnnnanana eh\n",
    "Dynnnnnanana eh\n",
    "Dynnnnnanana eh\n",
    "Light it up like dynamite\n",
    "Dynnnnnanana eh\n",
    "Dynnnnnanana eh\n",
    "Dynnnnnanana eh\n",
    "Light it up like dynamite\n",
    "Cos ah ah I'm in the stars tonight\n",
    "So watch me bring the fire and set the night alight\n",
    "Shining through the city with a little funk and soul\n",
    "So I'mma light it up like dynamite\n",
    "Cos ah ah I'm in the stars tonight\n",
    "So watch me bring the fire and set the night alight\n",
    "Shining through the city with a little funk and soul\n",
    "So I'mma light it up like dynamite, woah\n",
    "Dynnnnnanana, life is dynamite\n",
    "Dynnnnnanana, life is dynamite\n",
    "Shining through the city with a little funk and soul\n",
    "So I'mma light it up like dynamite, woah\"\"\"\n",
    "\n",
    "bts.find(\"I'm diamond\")"
   ]
  },
  {
   "cell_type": "code",
   "execution_count": 29,
   "metadata": {},
   "outputs": [
    {
     "name": "stdout",
     "output_type": "stream",
     "text": [
      "I'm diamond you know I glow up\n"
     ]
    }
   ],
   "source": [
    "print(bts[486:516])"
   ]
  },
  {
   "cell_type": "code",
   "execution_count": null,
   "metadata": {},
   "outputs": [],
   "source": []
  }
 ],
 "metadata": {
  "kernelspec": {
   "display_name": "Python 3",
   "language": "python",
   "name": "python3"
  },
  "language_info": {
   "codemirror_mode": {
    "name": "ipython",
    "version": 3
   },
   "file_extension": ".py",
   "mimetype": "text/x-python",
   "name": "python",
   "nbconvert_exporter": "python",
   "pygments_lexer": "ipython3",
   "version": "3.8.5"
  }
 },
 "nbformat": 4,
 "nbformat_minor": 4
}
