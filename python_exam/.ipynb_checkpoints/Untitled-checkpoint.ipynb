{
 "cells": [
  {
   "cell_type": "code",
   "execution_count": 51,
   "metadata": {},
   "outputs": [],
   "source": [
    "class Unit:\n",
    "    def __init__(self, hp, attack, mineral, gas, popular):\n",
    "        self.hp = hp\n",
    "        self.attack = attack\n",
    "        self.mineral = mineral\n",
    "        self.gas = gas\n",
    "        self.popular = popular\n",
    "        \n",
    "    def Attack(self):\n",
    "        print('상대를 공격합니다.')\n",
    "        \n",
    "    def Move(self):\n",
    "        print('이동합니다.')\n",
    "    \n",
    "    def Stop(self):\n",
    "        print('멈춥니다.')"
   ]
  },
  {
   "cell_type": "code",
   "execution_count": 53,
   "metadata": {},
   "outputs": [],
   "source": [
    "marrine = Unit(45, 6, 50, 0, 1)\n",
    "ghost = Unit(45, 10, 25, 75, 1)"
   ]
  },
  {
   "cell_type": "code",
   "execution_count": 63,
   "metadata": {
    "scrolled": true
   },
   "outputs": [
    {
     "name": "stdout",
     "output_type": "stream",
     "text": [
      "상대를 공격합니다.\n",
      "5\n"
     ]
    }
   ],
   "source": [
    "ghost.Attack()\n",
    "marrine.hp -= 10\n",
    "    \n",
    "print(marrine.hp)"
   ]
  }
 ],
 "metadata": {
  "kernelspec": {
   "display_name": "Python 3",
   "language": "python",
   "name": "python3"
  },
  "language_info": {
   "codemirror_mode": {
    "name": "ipython",
    "version": 3
   },
   "file_extension": ".py",
   "mimetype": "text/x-python",
   "name": "python",
   "nbconvert_exporter": "python",
   "pygments_lexer": "ipython3",
   "version": "3.8.5"
  }
 },
 "nbformat": 4,
 "nbformat_minor": 4
}
