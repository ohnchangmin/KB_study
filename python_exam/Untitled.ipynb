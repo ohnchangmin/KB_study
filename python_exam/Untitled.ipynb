{
 "cells": [
  {
   "cell_type": "code",
   "execution_count": 17,
   "metadata": {},
   "outputs": [
    {
     "name": "stdout",
     "output_type": "stream",
     "text": [
      "숫자를 입력하세요: 10\n",
      "362880\n"
     ]
    }
   ],
   "source": [
    "a=int(input('숫자를 입력하세요: '))\n",
    "\n",
    "def fac(num):\n",
    "    result = 1\n",
    "    for i in range(1, num):\n",
    "        result *= i\n",
    "    print(result)\n",
    "\n",
    "fac(a)"
   ]
  },
  {
   "cell_type": "code",
   "execution_count": 42,
   "metadata": {},
   "outputs": [
    {
     "name": "stdout",
     "output_type": "stream",
     "text": [
      "1+1+2+3+5+8+13+21+34+"
     ]
    }
   ],
   "source": [
    "def fib(n):\n",
    "    a,b = 1, 1\n",
    "    if n==1 or n==2:\n",
    "        return 1\n",
    "    for i in range(1,n):\n",
    "        a, b = b, a+b \n",
    "    return a\n",
    "\n",
    "def print_fib(n):\n",
    "    for i in range(1,n):\n",
    "        print(fib(i), end = '+')\n",
    "        \n",
    "print_fib(10)"
   ]
  },
  {
   "cell_type": "code",
   "execution_count": 2,
   "metadata": {},
   "outputs": [],
   "source": [
    "def plus(a, b):\n",
    "    return a + b\n",
    "\n",
    "def minu(a, b):\n",
    "    return a - b\n",
    "\n",
    "def mul(a, b):\n",
    "    return a * b\n",
    "\n",
    "def div(a, b):\n",
    "    return a / b\n",
    "\n",
    "def cal():\n",
    "    while True:\n",
    "        a = int(input(\"숫자를 입력해주세요: \"))\n",
    "        c = input(\"사칙연산을 골라주세요: \")\n",
    "        b = int(input(\"숫자를 입력해주세요: \"))\n",
    "    \n",
    "        if(c == '+'):\n",
    "            print(plus(a, b))\n",
    "        elif(c == '-'):\n",
    "            print(minu(a, b))\n",
    "        elif(c == '*'):\n",
    "            print(mul(a, b))\n",
    "        elif(c == '/'):\n",
    "            print(div(a, b))\n",
    "        elif(c == 'q'):\n",
    "            break"
   ]
  },
  {
   "cell_type": "code",
   "execution_count": 4,
   "metadata": {},
   "outputs": [
    {
     "name": "stdout",
     "output_type": "stream",
     "text": [
      "['Please', \"don't\", 'see', 'Just', 'a', 'boy', 'caught', 'up', 'in', 'dreams', 'and', 'fantasies', 'Please', 'see', 'me', 'Reaching', 'out', 'for', 'someone', 'I', \"can't\", 'see', 'Take', 'my', 'hand', \"Let's\", 'see', 'where', 'we', 'wake', 'up', 'tomorrow', 'Best', 'laid', 'plans', 'Sometimes', 'are', 'just', 'a', 'one', 'night', 'stand', \"I'll\", 'be', 'damned', \"Cupid's\", 'demanding', 'back', 'his', 'arrow', 'So', \"let's\", 'get', 'drunk', 'on', 'our', 'tears', 'And', 'God', 'tell', 'us', 'the', 'reason', 'Youth', 'is', 'wasted', 'on', 'the', 'young', \"It's\", 'hunting', 'season', 'and', 'the', 'lambs', 'are', 'on', 'the', 'run', 'Searching', 'for', 'meaning', 'But', 'are', 'we', 'all', 'lost', 'stars', 'Trying', 'to', 'light', 'up', 'the', 'dark', 'Who', 'are', 'we', 'Just', 'a', 'speck', 'of', 'dust', 'within', 'the', 'galaxy', 'Woe', 'is', 'me', 'If', \"we're\", 'not', 'careful', 'turns', 'into', 'reality', \"Don't\", 'you', 'dare', 'let', 'our', 'best', 'memories', 'bring', 'you', 'sorrow', 'Yesterday', 'I', 'saw', 'a', 'lion', 'kiss', 'a', 'deer', 'Turn', 'the', 'page', 'Maybe', \"we'll\", 'find', 'a', 'brand', 'new', 'ending', 'Where', \"we're\", 'dancing', 'in', 'our', 'tears', 'And', 'God', 'tell', 'us', 'the', 'reason', 'Youth', 'is', 'wasted', 'on', 'the', 'young', \"It's\", 'hunting', 'season', 'And', 'the', 'lambs', 'are', 'on', 'the', 'run', 'Searching', 'for', 'meaning', 'But', 'are', 'we', 'all', 'lost', 'stars', 'Trying', 'to', 'light', 'up', 'the', 'dark', 'And', 'I', 'thought', 'I', 'saw', 'you', 'out', 'there', 'crying', 'And', 'I', 'thought', 'I', 'heard', 'you', 'call', 'my', 'name', 'And', 'I', 'thought', 'I', 'heard', 'you', 'out', 'there', 'crying', 'Just', 'the', 'same', 'Oh', 'yeah', 'yeah', 'yeah', 'yeah', 'yeah', 'God', 'give', 'us', 'the', 'reason', 'Youth', 'is', 'wasted', 'on', 'the', 'young', \"It's\", 'hunting', 'season', 'and', 'this', 'lamb', 'is', 'on', 'the', 'run', 'Searching', 'for', 'meaning', 'But', 'are', 'we', 'all', 'lost', 'stars', 'Trying', 'to', 'light', 'up', 'the', 'dark', 'And', 'I', 'thought', 'I', 'saw', 'you', 'out', 'there', 'crying', 'And', 'I', 'thought', 'I', 'heard', 'you', 'call', 'my', 'name', 'And', 'I', 'thought', 'I', 'heard', 'you', 'out', 'there', 'crying', 'But', 'are', 'we', 'all', 'lost', 'stars', 'Trying', 'to', 'light', 'up', 'the', 'dark', 'But', 'are', 'we', 'all', 'lost', 'stars', 'Trying', 'to', 'light', 'up', 'the', 'dark', '']\n"
     ]
    }
   ],
   "source": [
    "rudi = '''Please, don't see\n",
    "Just a boy caught up in dreams and fantasies\n",
    "Please, see me\n",
    "Reaching out for someone I can't see\n",
    "Take my hand\n",
    "Let's see where we wake up tomorrow\n",
    "Best laid plans\n",
    "Sometimes are just a one night stand\n",
    "I'll be damned\n",
    "Cupid's demanding back his arrow\n",
    "So let's get drunk on our tears\n",
    "And, God, tell us the reason\n",
    "Youth is wasted on the young\n",
    "It's hunting season and the lambs are on the run\n",
    "Searching for meaning\n",
    "But are we all lost stars\n",
    "Trying to light up the dark?\n",
    "Who are we?\n",
    "Just a speck of dust within the galaxy\n",
    "Woe is me\n",
    "If we're not careful turns into reality\n",
    "Don't you dare let our best memories bring you sorrow\n",
    "Yesterday I saw a lion kiss a deer\n",
    "Turn the page\n",
    "Maybe we'll find a brand new ending\n",
    "Where we're dancing in our tears\n",
    "And, God, tell us the reason\n",
    "Youth is wasted on the young\n",
    "It's hunting season\n",
    "And the lambs are on the run\n",
    "Searching for meaning\n",
    "But are we all lost stars\n",
    "Trying to light up the dark?\n",
    "And I thought I saw you out there crying\n",
    "And I thought I heard you call my name\n",
    "And I thought I heard you out there crying\n",
    "Just the same\n",
    "Oh yeah, yeah yeah yeah yeah\n",
    "God, give us the reason\n",
    "Youth is wasted on the young\n",
    "It's hunting season and this lamb is on the run\n",
    "Searching for meaning\n",
    "But are we all lost stars\n",
    "Trying to light up the dark?\n",
    "And I thought I saw you out there crying\n",
    "And I thought I heard you call my name\n",
    "And I thought I heard you out there crying\n",
    "But are we all lost stars\n",
    "Trying to light up the dark?\n",
    "But are we all lost stars\n",
    "Trying to light up the dark?'''\n",
    "\n",
    "a = rudi.replace('\\n', ' ')\n",
    "a = a.replace(',', ' ')\n",
    "a = a.replace('?', ' ')\n",
    "a = a.replace('  ', ' ')\n",
    "b = a.split(' ')\n",
    "\n",
    "for i in b.count()\n",
    "b.count()    "
   ]
  }
 ],
 "metadata": {
  "kernelspec": {
   "display_name": "Python 3",
   "language": "python",
   "name": "python3"
  },
  "language_info": {
   "codemirror_mode": {
    "name": "ipython",
    "version": 3
   },
   "file_extension": ".py",
   "mimetype": "text/x-python",
   "name": "python",
   "nbconvert_exporter": "python",
   "pygments_lexer": "ipython3",
   "version": "3.8.5"
  }
 },
 "nbformat": 4,
 "nbformat_minor": 4
}
